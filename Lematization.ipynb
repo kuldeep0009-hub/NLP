{
 "cells": [
  {
   "cell_type": "markdown",
   "id": "af405b68",
   "metadata": {},
   "source": [
    "## Lemmatization \n",
    "is similar to stemming but more intelligent and accurate. Instead of just chopping suffixes like stemming, it uses WordNet (a lexical database of English words) to find the base (dictionary) form of a word.\n"
   ]
  },
  {
   "cell_type": "code",
   "execution_count": 23,
   "id": "29193b71",
   "metadata": {},
   "outputs": [],
   "source": [
    "words=[\"eating\",\"eats\",\"eaten\",\"writing\",\"writes\",\"programming\",\"progrmas\",\"beaten\",\"beating\",\"history\"]"
   ]
  },
  {
   "cell_type": "code",
   "execution_count": null,
   "id": "71e4eff4",
   "metadata": {},
   "outputs": [],
   "source": [
    "from nltk.stem import WordNetLemmatizer\n",
    "lematizer=WordNetLemmatizer()\n",
    "## stemming takes less time as compare to lemmatization"
   ]
  },
  {
   "cell_type": "code",
   "execution_count": 25,
   "id": "90993bd6",
   "metadata": {},
   "outputs": [
    {
     "data": {
      "text/plain": [
       "'going'"
      ]
     },
     "execution_count": 25,
     "metadata": {},
     "output_type": "execute_result"
    }
   ],
   "source": [
    "lematizer.lemmatize('going')"
   ]
  },
  {
   "cell_type": "code",
   "execution_count": 26,
   "id": "8b988473",
   "metadata": {},
   "outputs": [
    {
     "data": {
      "text/plain": [
       "'go'"
      ]
     },
     "execution_count": 26,
     "metadata": {},
     "output_type": "execute_result"
    }
   ],
   "source": [
    "'''' \n",
    "POS- noun-n\n",
    "verb-v\n",
    "adjective-a\n",
    "adverb-r'''\n",
    "lematizer.lemmatize('going',pos='v')"
   ]
  },
  {
   "cell_type": "code",
   "execution_count": 27,
   "id": "c8ef0c10",
   "metadata": {},
   "outputs": [
    {
     "name": "stdout",
     "output_type": "stream",
     "text": [
      "eating---->eat\n",
      "eats---->eat\n",
      "eaten---->eat\n",
      "writing---->write\n",
      "writes---->write\n",
      "programming---->program\n",
      "progrmas---->progrmas\n",
      "beaten---->beat\n",
      "beating---->beat\n",
      "history---->history\n"
     ]
    }
   ],
   "source": [
    "for i in words:\n",
    "    print(i+'---->'+lematizer.lemmatize(i,pos='v'))"
   ]
  },
  {
   "cell_type": "code",
   "execution_count": 28,
   "id": "0997dc01",
   "metadata": {},
   "outputs": [
    {
     "data": {
      "text/plain": [
       "'go'"
      ]
     },
     "execution_count": 28,
     "metadata": {},
     "output_type": "execute_result"
    }
   ],
   "source": [
    "lematizer.lemmatize('goes',pos='v')"
   ]
  },
  {
   "cell_type": "code",
   "execution_count": 32,
   "id": "eab69bb4",
   "metadata": {},
   "outputs": [
    {
     "data": {
      "text/plain": [
       "('fairly', 'sportingly')"
      ]
     },
     "execution_count": 32,
     "metadata": {},
     "output_type": "execute_result"
    }
   ],
   "source": [
    "lematizer.lemmatize('fairly',pos='v'),lematizer.lemmatize('sportingly',pos='v')"
   ]
  },
  {
   "cell_type": "code",
   "execution_count": null,
   "id": "35af842c",
   "metadata": {},
   "outputs": [],
   "source": []
  }
 ],
 "metadata": {
  "kernelspec": {
   "display_name": "venv",
   "language": "python",
   "name": "python3"
  },
  "language_info": {
   "codemirror_mode": {
    "name": "ipython",
    "version": 3
   },
   "file_extension": ".py",
   "mimetype": "text/x-python",
   "name": "python",
   "nbconvert_exporter": "python",
   "pygments_lexer": "ipython3",
   "version": "3.13.2"
  }
 },
 "nbformat": 4,
 "nbformat_minor": 5
}
