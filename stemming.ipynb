{
 "cells": [
  {
   "cell_type": "markdown",
   "id": "5a8d9cf0",
   "metadata": {},
   "source": [
    "# Stemming \n",
    "is an NLP technique used to reduce a word to its root or base form by chopping off prefixes or suffixes.\n",
    "It doesn’t always return a valid word in English, but it gives a standardized form that helps in text processing\n",
    "\n",
    "Words:\n",
    "playing, played, plays\n",
    "\n",
    "Stemmed:\n",
    "play\n",
    "\n",
    "Words:\n",
    "studies, studying\n",
    "\n",
    "Stemmed:\n",
    "studi (notice: not always a real word)"
   ]
  },
  {
   "cell_type": "code",
   "execution_count": null,
   "id": "923e7352",
   "metadata": {},
   "outputs": [],
   "source": [
    "words=[\"eating\",\"eats\",\"eaten\",\"writing\",\"writes\",\"programming\",\"progrmas\",\"beaten\",\"beating\",\"history\"]\n",
    "# stemming is used to reduce its word to stem"
   ]
  },
  {
   "cell_type": "code",
   "execution_count": 58,
   "id": "50d343d7",
   "metadata": {},
   "outputs": [
    {
     "name": "stdout",
     "output_type": "stream",
     "text": [
      "eating---->eat\n",
      "eats---->eat\n",
      "eaten---->eaten\n",
      "writing---->write\n",
      "writes---->write\n",
      "programming---->program\n",
      "progrmas---->progrma\n",
      "beaten---->beaten\n",
      "beating---->beat\n",
      "history---->histori\n"
     ]
    }
   ],
   "source": [
    "#porter stemmer\n",
    "from nltk.stem import PorterStemmer\n",
    "stemming=PorterStemmer()\n",
    "for i in words:\n",
    "    print(i+\"---->\"+stemming.stem(i))\n",
    "\n",
    "#major disadvantage of stemming is it gives sometimes not valid englsih word after stemming the word"
   ]
  },
  {
   "cell_type": "markdown",
   "id": "90402259",
   "metadata": {},
   "source": [
    "# RegexpStemmer \n",
    "is a stemmer that removes suffixes (or prefixes) using regular expressions.\n",
    "Unlike Porter or Snowball stemmers, it doesn’t rely on built-in linguistic rules but instead uses a regex pattern you define."
   ]
  },
  {
   "cell_type": "code",
   "execution_count": 59,
   "id": "57047862",
   "metadata": {},
   "outputs": [],
   "source": [
    "from nltk.stem import RegexpStemmer\n",
    "reg_stemmer=RegexpStemmer('ing&|able$|s$|e&',min=4)"
   ]
  },
  {
   "cell_type": "code",
   "execution_count": 60,
   "id": "c4c8ecef",
   "metadata": {},
   "outputs": [
    {
     "data": {
      "text/plain": [
       "'eating'"
      ]
     },
     "execution_count": 60,
     "metadata": {},
     "output_type": "execute_result"
    }
   ],
   "source": [
    "reg_stemmer.stem(\"eating\")"
   ]
  },
  {
   "cell_type": "code",
   "execution_count": 61,
   "id": "51d59d7f",
   "metadata": {},
   "outputs": [
    {
     "data": {
      "text/plain": [
       "'dur'"
      ]
     },
     "execution_count": 61,
     "metadata": {},
     "output_type": "execute_result"
    }
   ],
   "source": [
    "reg_stemmer.stem(\"durable\")"
   ]
  },
  {
   "cell_type": "code",
   "execution_count": 62,
   "id": "a58f3009",
   "metadata": {},
   "outputs": [
    {
     "data": {
      "text/plain": [
       "'ingeating'"
      ]
     },
     "execution_count": 62,
     "metadata": {},
     "output_type": "execute_result"
    }
   ],
   "source": [
    "reg_stemmer.stem(\"ingeating\")\n",
    "# if i remove $ from back then wherever it find the word it will remove   \n",
    "#with dollar in last answer is ingeating and without # answer is eat"
   ]
  },
  {
   "cell_type": "markdown",
   "id": "f553630b",
   "metadata": {},
   "source": [
    "## Snowball Stemmer \n",
    "is an advanced stemming algorithm developed by Martin Porter (the same person who created the Porter Stemmer).\n",
    "Sometimes it’s also called “Porter2 Stemmer.”\n",
    "It improves on the original Porter Stemmer by being faster, more consistent, and supporting multiple languages."
   ]
  },
  {
   "cell_type": "code",
   "execution_count": 63,
   "id": "d11c97c5",
   "metadata": {},
   "outputs": [],
   "source": [
    "from nltk.stem import SnowballStemmer\n",
    "snowball_stemmer=SnowballStemmer('english')\n",
    "#can be used for multiple differnet languages"
   ]
  },
  {
   "cell_type": "code",
   "execution_count": 64,
   "id": "e70bc193",
   "metadata": {},
   "outputs": [
    {
     "name": "stdout",
     "output_type": "stream",
     "text": [
      "eating----->eat\n",
      "eats----->eat\n",
      "eaten----->eaten\n",
      "writing----->write\n",
      "writes----->write\n",
      "programming----->program\n",
      "progrmas----->progrma\n",
      "beaten----->beaten\n",
      "beating----->beat\n",
      "history----->histori\n"
     ]
    }
   ],
   "source": [
    "for i in words:\n",
    "    print(i+\"----->\"+snowball_stemmer.stem(i))"
   ]
  },
  {
   "cell_type": "code",
   "execution_count": 65,
   "id": "b9672fe4",
   "metadata": {},
   "outputs": [
    {
     "data": {
      "text/plain": [
       "('fairli', 'sportingli')"
      ]
     },
     "execution_count": 65,
     "metadata": {},
     "output_type": "execute_result"
    }
   ],
   "source": [
    "stemming.stem(\"fairly\"),stemming.stem('sportingly')"
   ]
  },
  {
   "cell_type": "code",
   "execution_count": 66,
   "id": "9b447ea5",
   "metadata": {},
   "outputs": [
    {
     "data": {
      "text/plain": [
       "('fair', 'sport')"
      ]
     },
     "execution_count": 66,
     "metadata": {},
     "output_type": "execute_result"
    }
   ],
   "source": [
    "snowball_stemmer.stem('fairly'),snowball_stemmer.stem('sportingly')"
   ]
  },
  {
   "cell_type": "code",
   "execution_count": 67,
   "id": "80c1d321",
   "metadata": {},
   "outputs": [
    {
     "data": {
      "text/plain": [
       "('goe', 'goe')"
      ]
     },
     "execution_count": 67,
     "metadata": {},
     "output_type": "execute_result"
    }
   ],
   "source": [
    "snowball_stemmer.stem('goes'),stemming.stem('goes')"
   ]
  },
  {
   "cell_type": "code",
   "execution_count": null,
   "id": "fb0a7c9a",
   "metadata": {},
   "outputs": [],
   "source": []
  }
 ],
 "metadata": {
  "kernelspec": {
   "display_name": "venv",
   "language": "python",
   "name": "python3"
  },
  "language_info": {
   "codemirror_mode": {
    "name": "ipython",
    "version": 3
   },
   "file_extension": ".py",
   "mimetype": "text/x-python",
   "name": "python",
   "nbconvert_exporter": "python",
   "pygments_lexer": "ipython3",
   "version": "3.13.2"
  }
 },
 "nbformat": 4,
 "nbformat_minor": 5
}
