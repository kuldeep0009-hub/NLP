{
 "cells": [
  {
   "cell_type": "code",
   "execution_count": 1,
   "id": "954bed00",
   "metadata": {},
   "outputs": [],
   "source": [
    "paragraph='''“I have three visions for India.\n",
    "In 3000 years of our history, people from all over the world have come and invaded us, captured our lands, conquered our minds. From Alexander onwards—the Greeks, the Turks, the Moguls, the Portuguese, the British, the French, the Dutch—all of them came and looted us, took over what was ours. Yet we have not done this to any other nation. We have not conquered anyone. We have not grabbed their land, their culture, or their history and tried to enforce our way of life on them. Why? Because we respect the freedom of others. That is why my FIRST VISION is that of FREEDOM. I believe that India got its first vision of this in 1857, with the start of the War of Independence. It is this freedom that we must protect and nurture and build on. If we are not free, no one will respect us.\n",
    "My SECOND VISION for India is DEVELOPMENT. For fifty years we have been a developing nation. It is time we see ourselves as a developed nation. We are among the top-five nations in the world in terms of GDP. We have a 10 percent growth rate in most areas. Our poverty levels are falling. Our achievements are globally recognised today. Yet we lack the self-confidence to see ourselves as a developed nation—self-reliant and self-assured. Isn't this incorrect?\n",
    "I have a THIRD VISION. India must stand up to the world. Because I believe that, unless India stands up to the world, no one will respect us. Only strength respects strength. We must be strong not only as a military power but also as an economic power—and both must go hand in hand. My good fortune was to have worked with three great minds: Dr. Vikram Sarabhai of the Department of Space, Professor Satish Dhawan who succeeded him, and Dr. Brahm Prakash, father of nuclear material. I was lucky to have worked with all three of them closely and consider this the great opportunity of my life.\n",
    "I was in Hyderabad giving this lecture when a 14-year-old girl asked me for my autograph. I asked her, \"What is your goal in life?\" She replied, “I want to live in a developed India.” For her, you and I have to build this developed India. You must proclaim that India is not an under-developed nation—it is a highly developed nation.\n",
    "You say that our government is inefficient. You say our laws are too old. You say the municipality does not pick up the garbage. You say the phones don’t work, the railways are a joke, the airline is the worst in the world, and mails never reach their destination. You say, say and say—but what do you do about it?\n",
    "Dear Indians, I echo the words of J. F. Kennedy to his fellow Americans—“Ask not what your country can do for you; ask what you can do for your country.” We must do what needs to be done to make India what America and other Western countries are today.\n",
    "'''"
   ]
  },
  {
   "cell_type": "code",
   "execution_count": 2,
   "id": "40e5943d",
   "metadata": {},
   "outputs": [],
   "source": [
    "from nltk.stem import PorterStemmer"
   ]
  },
  {
   "cell_type": "code",
   "execution_count": 3,
   "id": "6cd921b1",
   "metadata": {},
   "outputs": [],
   "source": [
    "from nltk.corpus import stopwords"
   ]
  },
  {
   "cell_type": "code",
   "execution_count": 4,
   "id": "81de36b4",
   "metadata": {},
   "outputs": [
    {
     "name": "stderr",
     "output_type": "stream",
     "text": [
      "[nltk_data] Downloading package stopwords to\n",
      "[nltk_data]     /Users/kuldeepsharma/nltk_data...\n",
      "[nltk_data]   Package stopwords is already up-to-date!\n"
     ]
    },
    {
     "data": {
      "text/plain": [
       "True"
      ]
     },
     "execution_count": 4,
     "metadata": {},
     "output_type": "execute_result"
    }
   ],
   "source": [
    "import nltk\n",
    "nltk.download('stopwords')"
   ]
  },
  {
   "cell_type": "code",
   "execution_count": 5,
   "id": "99ae4089",
   "metadata": {},
   "outputs": [
    {
     "data": {
      "text/plain": [
       "['a',\n",
       " 'about',\n",
       " 'above',\n",
       " 'after',\n",
       " 'again',\n",
       " 'against',\n",
       " 'ain',\n",
       " 'all',\n",
       " 'am',\n",
       " 'an',\n",
       " 'and',\n",
       " 'any',\n",
       " 'are',\n",
       " 'aren',\n",
       " \"aren't\",\n",
       " 'as',\n",
       " 'at',\n",
       " 'be',\n",
       " 'because',\n",
       " 'been',\n",
       " 'before',\n",
       " 'being',\n",
       " 'below',\n",
       " 'between',\n",
       " 'both',\n",
       " 'but',\n",
       " 'by',\n",
       " 'can',\n",
       " 'couldn',\n",
       " \"couldn't\",\n",
       " 'd',\n",
       " 'did',\n",
       " 'didn',\n",
       " \"didn't\",\n",
       " 'do',\n",
       " 'does',\n",
       " 'doesn',\n",
       " \"doesn't\",\n",
       " 'doing',\n",
       " 'don',\n",
       " \"don't\",\n",
       " 'down',\n",
       " 'during',\n",
       " 'each',\n",
       " 'few',\n",
       " 'for',\n",
       " 'from',\n",
       " 'further',\n",
       " 'had',\n",
       " 'hadn',\n",
       " \"hadn't\",\n",
       " 'has',\n",
       " 'hasn',\n",
       " \"hasn't\",\n",
       " 'have',\n",
       " 'haven',\n",
       " \"haven't\",\n",
       " 'having',\n",
       " 'he',\n",
       " \"he'd\",\n",
       " \"he'll\",\n",
       " 'her',\n",
       " 'here',\n",
       " 'hers',\n",
       " 'herself',\n",
       " \"he's\",\n",
       " 'him',\n",
       " 'himself',\n",
       " 'his',\n",
       " 'how',\n",
       " 'i',\n",
       " \"i'd\",\n",
       " 'if',\n",
       " \"i'll\",\n",
       " \"i'm\",\n",
       " 'in',\n",
       " 'into',\n",
       " 'is',\n",
       " 'isn',\n",
       " \"isn't\",\n",
       " 'it',\n",
       " \"it'd\",\n",
       " \"it'll\",\n",
       " \"it's\",\n",
       " 'its',\n",
       " 'itself',\n",
       " \"i've\",\n",
       " 'just',\n",
       " 'll',\n",
       " 'm',\n",
       " 'ma',\n",
       " 'me',\n",
       " 'mightn',\n",
       " \"mightn't\",\n",
       " 'more',\n",
       " 'most',\n",
       " 'mustn',\n",
       " \"mustn't\",\n",
       " 'my',\n",
       " 'myself',\n",
       " 'needn',\n",
       " \"needn't\",\n",
       " 'no',\n",
       " 'nor',\n",
       " 'not',\n",
       " 'now',\n",
       " 'o',\n",
       " 'of',\n",
       " 'off',\n",
       " 'on',\n",
       " 'once',\n",
       " 'only',\n",
       " 'or',\n",
       " 'other',\n",
       " 'our',\n",
       " 'ours',\n",
       " 'ourselves',\n",
       " 'out',\n",
       " 'over',\n",
       " 'own',\n",
       " 're',\n",
       " 's',\n",
       " 'same',\n",
       " 'shan',\n",
       " \"shan't\",\n",
       " 'she',\n",
       " \"she'd\",\n",
       " \"she'll\",\n",
       " \"she's\",\n",
       " 'should',\n",
       " 'shouldn',\n",
       " \"shouldn't\",\n",
       " \"should've\",\n",
       " 'so',\n",
       " 'some',\n",
       " 'such',\n",
       " 't',\n",
       " 'than',\n",
       " 'that',\n",
       " \"that'll\",\n",
       " 'the',\n",
       " 'their',\n",
       " 'theirs',\n",
       " 'them',\n",
       " 'themselves',\n",
       " 'then',\n",
       " 'there',\n",
       " 'these',\n",
       " 'they',\n",
       " \"they'd\",\n",
       " \"they'll\",\n",
       " \"they're\",\n",
       " \"they've\",\n",
       " 'this',\n",
       " 'those',\n",
       " 'through',\n",
       " 'to',\n",
       " 'too',\n",
       " 'under',\n",
       " 'until',\n",
       " 'up',\n",
       " 've',\n",
       " 'very',\n",
       " 'was',\n",
       " 'wasn',\n",
       " \"wasn't\",\n",
       " 'we',\n",
       " \"we'd\",\n",
       " \"we'll\",\n",
       " \"we're\",\n",
       " 'were',\n",
       " 'weren',\n",
       " \"weren't\",\n",
       " \"we've\",\n",
       " 'what',\n",
       " 'when',\n",
       " 'where',\n",
       " 'which',\n",
       " 'while',\n",
       " 'who',\n",
       " 'whom',\n",
       " 'why',\n",
       " 'will',\n",
       " 'with',\n",
       " 'won',\n",
       " \"won't\",\n",
       " 'wouldn',\n",
       " \"wouldn't\",\n",
       " 'y',\n",
       " 'you',\n",
       " \"you'd\",\n",
       " \"you'll\",\n",
       " 'your',\n",
       " \"you're\",\n",
       " 'yours',\n",
       " 'yourself',\n",
       " 'yourselves',\n",
       " \"you've\"]"
      ]
     },
     "execution_count": 5,
     "metadata": {},
     "output_type": "execute_result"
    }
   ],
   "source": [
    "stopwords.words('english')"
   ]
  },
  {
   "cell_type": "code",
   "execution_count": 6,
   "id": "d18317d0",
   "metadata": {},
   "outputs": [],
   "source": [
    "from nltk.stem import PorterStemmer\n",
    "stemmer=PorterStemmer()"
   ]
  },
  {
   "cell_type": "code",
   "execution_count": 7,
   "id": "fbe6989c",
   "metadata": {},
   "outputs": [],
   "source": [
    "sentences=nltk.sent_tokenize(paragraph)"
   ]
  },
  {
   "cell_type": "code",
   "execution_count": 8,
   "id": "a5baf659",
   "metadata": {},
   "outputs": [
    {
     "data": {
      "text/plain": [
       "list"
      ]
     },
     "execution_count": 8,
     "metadata": {},
     "output_type": "execute_result"
    }
   ],
   "source": [
    "type(sentences)"
   ]
  },
  {
   "cell_type": "code",
   "execution_count": 9,
   "id": "7b65e2a7",
   "metadata": {},
   "outputs": [],
   "source": [
    "## Apply stopwards and filter and then apply streamming\n",
    "for i in range (len(sentences)):\n",
    "    words=nltk.word_tokenize(sentences[i])\n",
    "    words=[stemmer.stem(word)for word in words if word not in set (stopwords.words('english'))]\n",
    "    ## jo stopward ke english me nahi h sirf unhi or stemming apply hogi is code se \n",
    "    sentences[i]='    '.join(words) #converting all the list of words into sentences"
   ]
  },
  {
   "cell_type": "code",
   "execution_count": 10,
   "id": "9855a477",
   "metadata": {},
   "outputs": [
    {
     "data": {
      "text/plain": [
       "['“    i    three    vision    india    .',\n",
       " 'in    3000    year    histori    ,    peopl    world    come    invad    us    ,    captur    land    ,    conquer    mind    .',\n",
       " 'from    alexand    onwards—th    greek    ,    turk    ,    mogul    ,    portugues    ,    british    ,    french    ,    dutch—al    came    loot    us    ,    took    .',\n",
       " 'yet    done    nation    .',\n",
       " 'we    conquer    anyon    .',\n",
       " 'we    grab    land    ,    cultur    ,    histori    tri    enforc    way    life    .',\n",
       " 'whi    ?',\n",
       " 'becaus    respect    freedom    other    .',\n",
       " 'that    first    vision    freedom    .',\n",
       " 'i    believ    india    got    first    vision    1857    ,    start    war    independ    .',\n",
       " 'it    freedom    must    protect    nurtur    build    .',\n",
       " 'if    free    ,    one    respect    us    .',\n",
       " 'my    second    vision    india    develop    .',\n",
       " 'for    fifti    year    develop    nation    .',\n",
       " 'it    time    see    develop    nation    .',\n",
       " 'we    among    top-fiv    nation    world    term    gdp    .',\n",
       " 'we    10    percent    growth    rate    area    .',\n",
       " 'our    poverti    level    fall    .',\n",
       " 'our    achiev    global    recognis    today    .',\n",
       " 'yet    lack    self-confid    see    develop    nation—self-reli    self-assur    .',\n",
       " \"is    n't    incorrect    ?\",\n",
       " 'i    third    vision    .',\n",
       " 'india    must    stand    world    .',\n",
       " 'becaus    i    believ    ,    unless    india    stand    world    ,    one    respect    us    .',\n",
       " 'onli    strength    respect    strength    .',\n",
       " 'we    must    strong    militari    power    also    econom    power—and    must    go    hand    hand    .',\n",
       " 'my    good    fortun    work    three    great    mind    :    dr.    vikram    sarabhai    depart    space    ,    professor    satish    dhawan    succeed    ,    dr.    brahm    prakash    ,    father    nuclear    materi    .',\n",
       " 'i    lucki    work    three    close    consid    great    opportun    life    .',\n",
       " 'i    hyderabad    give    lectur    14-year-old    girl    ask    autograph    .',\n",
       " \"i    ask    ,    ``    what    goal    life    ?    ''\",\n",
       " 'she    repli    ,    “    i    want    live    develop    india.    ”    for    ,    i    build    develop    india    .',\n",
       " 'you    must    proclaim    india    under-develop    nation—it    highli    develop    nation    .',\n",
       " 'you    say    govern    ineffici    .',\n",
       " 'you    say    law    old    .',\n",
       " 'you    say    municip    pick    garbag    .',\n",
       " 'you    say    phone    ’    work    ,    railway    joke    ,    airlin    worst    world    ,    mail    never    reach    destin    .',\n",
       " 'you    say    ,    say    say—but    ?',\n",
       " 'dear    indian    ,    i    echo    word    j.    f.    kennedi    fellow    americans—    “    ask    countri    ;    ask    country.    ”    we    must    need    done    make    india    america    western    countri    today    .']"
      ]
     },
     "execution_count": 10,
     "metadata": {},
     "output_type": "execute_result"
    }
   ],
   "source": [
    "sentences #jitne stopwords thei vo htgye or paragrph words me convert hogya\n"
   ]
  },
  {
   "cell_type": "code",
   "execution_count": 11,
   "id": "26e54104",
   "metadata": {},
   "outputs": [],
   "source": [
    "from nltk.stem import SnowballStemmer\n",
    "snowballstem=SnowballStemmer('english')"
   ]
  },
  {
   "cell_type": "code",
   "execution_count": 12,
   "id": "dd54f3dc",
   "metadata": {},
   "outputs": [],
   "source": [
    "for i in range(len(sentences)):\n",
    "    words=nltk.word_tokenize(sentences[i])\n",
    "    words=[snowballstem.stem(word)for word in words if word not in set (stopwords.words('english'))]\n",
    "    sentences[i]='   '.join(words) ##converting all "
   ]
  },
  {
   "cell_type": "code",
   "execution_count": 13,
   "id": "ad73b3e0",
   "metadata": {},
   "outputs": [
    {
     "data": {
      "text/plain": [
       "['“   three   vision   india   .',\n",
       " '3000   year   histori   ,   peopl   world   come   invad   us   ,   captur   land   ,   conquer   mind   .',\n",
       " 'alexand   onwards—th   greek   ,   turk   ,   mogul   ,   portugu   ,   british   ,   french   ,   dutch—al   came   loot   us   ,   took   .',\n",
       " 'yet   done   nation   .',\n",
       " 'conquer   anyon   .',\n",
       " 'grab   land   ,   cultur   ,   histori   tri   enforc   way   life   .',\n",
       " 'whi   ?',\n",
       " 'becaus   respect   freedom   .',\n",
       " 'first   vision   freedom   .',\n",
       " 'believ   india   got   first   vision   1857   ,   start   war   independ   .',\n",
       " 'freedom   must   protect   nurtur   build   .',\n",
       " 'free   ,   one   respect   us   .',\n",
       " 'second   vision   india   develop   .',\n",
       " 'fifti   year   develop   nation   .',\n",
       " 'time   see   develop   nation   .',\n",
       " 'among   top-fiv   nation   world   term   gdp   .',\n",
       " '10   percent   growth   rate   area   .',\n",
       " 'poverti   level   fall   .',\n",
       " 'achiev   global   recogni   today   .',\n",
       " 'yet   lack   self-confid   see   develop   nation—self-r   self-assur   .',\n",
       " \"n't   incorrect   ?\",\n",
       " 'third   vision   .',\n",
       " 'india   must   stand   world   .',\n",
       " 'becaus   believ   ,   unless   india   stand   world   ,   one   respect   us   .',\n",
       " 'on   strength   respect   strength   .',\n",
       " 'must   strong   militari   power   also   econom   power—and   must   go   hand   hand   .',\n",
       " 'good   fortun   work   three   great   mind   :   dr.   vikram   sarabhai   depart   space   ,   professor   satish   dhawan   succeed   ,   dr.   brahm   prakash   ,   father   nuclear   materi   .',\n",
       " 'lucki   work   three   close   consid   great   opportun   life   .',\n",
       " 'hyderabad   give   lectur   14-year-old   girl   ask   autograph   .',\n",
       " 'ask   ,   ``   goal   life   ?   ``',\n",
       " 'repli   ,   “   want   live   develop   india   .   ”   ,   build   develop   india   .',\n",
       " 'must   proclaim   india   under-develop   nation—it   high   develop   nation   .',\n",
       " 'say   govern   ineffici   .',\n",
       " 'say   law   old   .',\n",
       " 'say   municip   pick   garbag   .',\n",
       " 'say   phone   ’   work   ,   railway   joke   ,   airlin   worst   world   ,   mail   never   reach   destin   .',\n",
       " 'say   ,   say   say—but   ?',\n",
       " 'dear   indian   ,   echo   word   j.   f.   kennedi   fellow   americans—   “   ask   countri   ;   ask   countri   .   ”   must   need   done   make   india   america   western   countri   today   .']"
      ]
     },
     "execution_count": 13,
     "metadata": {},
     "output_type": "execute_result"
    }
   ],
   "source": [
    "sentences"
   ]
  },
  {
   "cell_type": "code",
   "execution_count": 14,
   "id": "dce5977c",
   "metadata": {},
   "outputs": [],
   "source": [
    "from nltk.stem import WordNetLemmatizer\n",
    "lemmatizer=WordNetLemmatizer()"
   ]
  },
  {
   "cell_type": "code",
   "execution_count": 15,
   "id": "c8c04915",
   "metadata": {},
   "outputs": [],
   "source": [
    "for i in range(len(sentences)):\n",
    "    words=nltk.word_tokenize(sentences[i])\n",
    "    words=[lemmatizer.lemmatize(word.lower(),pos='v')for word in words if word not in set (stopwords.words('english'))]\n",
    "    sentences[i]='  '.join(words)"
   ]
  },
  {
   "cell_type": "code",
   "execution_count": 16,
   "id": "c59acf88",
   "metadata": {},
   "outputs": [
    {
     "data": {
      "text/plain": [
       "['“  three  vision  india  .',\n",
       " '3000  year  histori  ,  peopl  world  come  invad  us  ,  captur  land  ,  conquer  mind  .',\n",
       " 'alexand  onwards—th  greek  ,  turk  ,  mogul  ,  portugu  ,  british  ,  french  ,  dutch—al  come  loot  us  ,  take  .',\n",
       " 'yet  do  nation  .',\n",
       " 'conquer  anyon  .',\n",
       " 'grab  land  ,  cultur  ,  histori  tri  enforc  way  life  .',\n",
       " 'whi  ?',\n",
       " 'becaus  respect  freedom  .',\n",
       " 'first  vision  freedom  .',\n",
       " 'believ  india  get  first  vision  1857  ,  start  war  independ  .',\n",
       " 'freedom  must  protect  nurtur  build  .',\n",
       " 'free  ,  one  respect  us  .',\n",
       " 'second  vision  india  develop  .',\n",
       " 'fifti  year  develop  nation  .',\n",
       " 'time  see  develop  nation  .',\n",
       " 'among  top-fiv  nation  world  term  gdp  .',\n",
       " '10  percent  growth  rate  area  .',\n",
       " 'poverti  level  fall  .',\n",
       " 'achiev  global  recogni  today  .',\n",
       " 'yet  lack  self-confid  see  develop  nation—self-r  self-assur  .',\n",
       " \"n't  incorrect  ?\",\n",
       " 'third  vision  .',\n",
       " 'india  must  stand  world  .',\n",
       " 'becaus  believ  ,  unless  india  stand  world  ,  one  respect  us  .',\n",
       " 'strength  respect  strength  .',\n",
       " 'must  strong  militari  power  also  econom  power—and  must  go  hand  hand  .',\n",
       " 'good  fortun  work  three  great  mind  :  dr.  vikram  sarabhai  depart  space  ,  professor  satish  dhawan  succeed  ,  dr.  brahm  prakash  ,  father  nuclear  materi  .',\n",
       " 'lucki  work  three  close  consid  great  opportun  life  .',\n",
       " 'hyderabad  give  lectur  14-year-old  girl  ask  autograph  .',\n",
       " 'ask  ,  ``  goal  life  ?  ``',\n",
       " 'repli  ,  “  want  live  develop  india  .  ”  ,  build  develop  india  .',\n",
       " 'must  proclaim  india  under-develop  nation—it  high  develop  nation  .',\n",
       " 'say  govern  ineffici  .',\n",
       " 'say  law  old  .',\n",
       " 'say  municip  pick  garbag  .',\n",
       " 'say  phone  ’  work  ,  railway  joke  ,  airlin  worst  world  ,  mail  never  reach  destin  .',\n",
       " 'say  ,  say  say—but  ?',\n",
       " 'dear  indian  ,  echo  word  j.  f.  kennedi  fellow  americans—  “  ask  countri  ;  ask  countri  .  ”  must  need  do  make  india  america  western  countri  today  .']"
      ]
     },
     "execution_count": 16,
     "metadata": {},
     "output_type": "execute_result"
    }
   ],
   "source": [
    "sentences"
   ]
  },
  {
   "cell_type": "code",
   "execution_count": 20,
   "id": "8e770cb9",
   "metadata": {},
   "outputs": [
    {
     "name": "stderr",
     "output_type": "stream",
     "text": [
      "[nltk_data] Downloading package averaged_perceptron_tagger_eng to\n",
      "[nltk_data]     /Users/kuldeepsharma/nltk_data...\n",
      "[nltk_data]   Unzipping taggers/averaged_perceptron_tagger_eng.zip.\n"
     ]
    },
    {
     "data": {
      "text/plain": [
       "True"
      ]
     },
     "execution_count": 20,
     "metadata": {},
     "output_type": "execute_result"
    }
   ],
   "source": [
    "import nltk\n",
    "nltk.download('averaged_perceptron_tagger_eng')\n"
   ]
  },
  {
   "cell_type": "code",
   "execution_count": 22,
   "id": "3b32fa53",
   "metadata": {},
   "outputs": [],
   "source": [
    "tag_elements=nltk.pos_tag(words)"
   ]
  },
  {
   "cell_type": "code",
   "execution_count": 23,
   "id": "b15b4d5a",
   "metadata": {},
   "outputs": [
    {
     "data": {
      "text/plain": [
       "[('dear', 'JJ'),\n",
       " ('indian', 'JJ'),\n",
       " (',', ','),\n",
       " ('echo', 'JJ'),\n",
       " ('word', 'NN'),\n",
       " ('j.', 'NN'),\n",
       " ('f.', 'NN'),\n",
       " ('kennedi', 'NNP'),\n",
       " ('fellow', 'NN'),\n",
       " ('americans—', 'NN'),\n",
       " ('“', 'NNP'),\n",
       " ('ask', 'NN'),\n",
       " ('countri', 'NN'),\n",
       " (';', ':'),\n",
       " ('ask', 'CC'),\n",
       " ('countri', 'NN'),\n",
       " ('.', '.'),\n",
       " ('”', 'NN'),\n",
       " ('must', 'MD'),\n",
       " ('need', 'VB'),\n",
       " ('do', 'VB'),\n",
       " ('make', 'VB'),\n",
       " ('india', 'VB'),\n",
       " ('america', 'JJ'),\n",
       " ('western', 'JJ'),\n",
       " ('countri', 'NN'),\n",
       " ('today', 'NN'),\n",
       " ('.', '.')]"
      ]
     },
     "execution_count": 23,
     "metadata": {},
     "output_type": "execute_result"
    }
   ],
   "source": [
    "tag_elements"
   ]
  },
  {
   "cell_type": "code",
   "execution_count": null,
   "id": "795d6c92",
   "metadata": {},
   "outputs": [],
   "source": []
  }
 ],
 "metadata": {
  "kernelspec": {
   "display_name": "venv",
   "language": "python",
   "name": "python3"
  },
  "language_info": {
   "codemirror_mode": {
    "name": "ipython",
    "version": 3
   },
   "file_extension": ".py",
   "mimetype": "text/x-python",
   "name": "python",
   "nbconvert_exporter": "python",
   "pygments_lexer": "ipython3",
   "version": "3.13.2"
  }
 },
 "nbformat": 4,
 "nbformat_minor": 5
}
