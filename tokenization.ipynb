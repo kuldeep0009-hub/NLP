{
 "cells": [
  {
   "cell_type": "code",
   "execution_count": 37,
   "id": "cf7927e9",
   "metadata": {},
   "outputs": [
    {
     "name": "stdout",
     "output_type": "stream",
     "text": [
      " Hello welcome to my world. Myself kuldeep sharma .\n",
      " i'm trying !  my best to become a good ai&ml engineer.\n",
      "            \n"
     ]
    }
   ],
   "source": [
    "corpus=''' Hello welcome to my world. Myself kuldeep sharma .\n",
    " i'm trying !  my best to become a good ai&ml engineer.\n",
    "            '''\n",
    "print(corpus)"
   ]
  },
  {
   "cell_type": "code",
   "execution_count": 38,
   "id": "df573eda",
   "metadata": {},
   "outputs": [
    {
     "name": "stderr",
     "output_type": "stream",
     "text": [
      "[nltk_data] Downloading package punkt to\n",
      "[nltk_data]     /Users/kuldeepsharma/nltk_data...\n",
      "[nltk_data]   Package punkt is already up-to-date!\n",
      "[nltk_data] Downloading package punkt_tab to\n",
      "[nltk_data]     /Users/kuldeepsharma/nltk_data...\n",
      "[nltk_data]   Package punkt_tab is already up-to-date!\n"
     ]
    },
    {
     "data": {
      "text/plain": [
       "True"
      ]
     },
     "execution_count": 38,
     "metadata": {},
     "output_type": "execute_result"
    }
   ],
   "source": [
    "import nltk\n",
    "nltk.download(\"punkt\")\n",
    "nltk.download(\"punkt_tab\")\n"
   ]
  },
  {
   "cell_type": "code",
   "execution_count": 39,
   "id": "3eb9fe2a",
   "metadata": {},
   "outputs": [
    {
     "data": {
      "text/plain": [
       "[' Hello welcome to my world.',\n",
       " 'Myself kuldeep sharma .',\n",
       " \"i'm trying !\",\n",
       " 'my best to become a good ai&ml engineer.']"
      ]
     },
     "execution_count": 39,
     "metadata": {},
     "output_type": "execute_result"
    }
   ],
   "source": [
    "## tokenization\n",
    "## sentence --->paragraph\n",
    "from nltk.tokenize import sent_tokenize #it convert paragraph into sentence\n",
    "nltk.data.path.append(\"/Users/kuldeepsharma/nltk_data\")\n",
    "sent_tokenize(corpus)"
   ]
  },
  {
   "cell_type": "code",
   "execution_count": 40,
   "id": "96a5ea74",
   "metadata": {},
   "outputs": [
    {
     "data": {
      "text/plain": [
       "list"
      ]
     },
     "execution_count": 40,
     "metadata": {},
     "output_type": "execute_result"
    }
   ],
   "source": [
    "documents=sent_tokenize(corpus)\n",
    "type(documents)"
   ]
  },
  {
   "cell_type": "code",
   "execution_count": 41,
   "id": "fc6525cc",
   "metadata": {},
   "outputs": [
    {
     "name": "stdout",
     "output_type": "stream",
     "text": [
      " Hello welcome to my world.\n",
      "Myself kuldeep sharma .\n",
      "i'm trying !\n",
      "my best to become a good ai&ml engineer.\n"
     ]
    }
   ],
   "source": [
    "for sentence in documents:\n",
    "    print(sentence)"
   ]
  },
  {
   "cell_type": "code",
   "execution_count": 42,
   "id": "7711a4ee",
   "metadata": {},
   "outputs": [
    {
     "data": {
      "text/plain": [
       "['Hello',\n",
       " 'welcome',\n",
       " 'to',\n",
       " 'my',\n",
       " 'world',\n",
       " '.',\n",
       " 'Myself',\n",
       " 'kuldeep',\n",
       " 'sharma',\n",
       " '.',\n",
       " 'i',\n",
       " \"'m\",\n",
       " 'trying',\n",
       " '!',\n",
       " 'my',\n",
       " 'best',\n",
       " 'to',\n",
       " 'become',\n",
       " 'a',\n",
       " 'good',\n",
       " 'ai',\n",
       " '&',\n",
       " 'ml',\n",
       " 'engineer',\n",
       " '.']"
      ]
     },
     "execution_count": 42,
     "metadata": {},
     "output_type": "execute_result"
    }
   ],
   "source": [
    "## tokenization\n",
    "# convert paragraph ---> word\n",
    "from nltk.tokenize import word_tokenize\n",
    "word_tokenize(corpus)"
   ]
  },
  {
   "cell_type": "code",
   "execution_count": 44,
   "id": "deaf345c",
   "metadata": {},
   "outputs": [
    {
     "name": "stdout",
     "output_type": "stream",
     "text": [
      "['Hello', 'welcome', 'to', 'my', 'world', '.']\n",
      "['Myself', 'kuldeep', 'sharma', '.']\n",
      "['i', \"'m\", 'trying', '!']\n",
      "['my', 'best', 'to', 'become', 'a', 'good', 'ai', '&', 'ml', 'engineer', '.']\n"
     ]
    }
   ],
   "source": [
    "for sentence in documents:\n",
    "    print(word_tokenize(sentence))"
   ]
  },
  {
   "cell_type": "code",
   "execution_count": null,
   "id": "67fd7c22",
   "metadata": {},
   "outputs": [
    {
     "data": {
      "text/plain": [
       "['Hello',\n",
       " 'welcome',\n",
       " 'to',\n",
       " 'my',\n",
       " 'world',\n",
       " '.',\n",
       " 'Myself',\n",
       " 'kuldeep',\n",
       " 'sharma',\n",
       " '.',\n",
       " 'i',\n",
       " \"'\",\n",
       " 'm',\n",
       " 'trying',\n",
       " '!',\n",
       " 'my',\n",
       " 'best',\n",
       " 'to',\n",
       " 'become',\n",
       " 'a',\n",
       " 'good',\n",
       " 'ai',\n",
       " '&',\n",
       " 'ml',\n",
       " 'engineer',\n",
       " '.']"
      ]
     },
     "execution_count": 45,
     "metadata": {},
     "output_type": "execute_result"
    }
   ],
   "source": [
    "from nltk.tokenize import wordpunct_tokenize\n",
    "wordpunct_tokenize(corpus)\n",
    "# this also separates 's punctuation is also treated as different word\n"
   ]
  },
  {
   "cell_type": "code",
   "execution_count": null,
   "id": "dc4b1a70",
   "metadata": {},
   "outputs": [],
   "source": [
    "from nltk.tokenize import TreebankWordTokenizer\n",
    "# in this full stops is not treated as separate word rather then last word"
   ]
  },
  {
   "cell_type": "code",
   "execution_count": 48,
   "id": "ab649e2b",
   "metadata": {},
   "outputs": [],
   "source": [
    "tokenizer=TreebankWordTokenizer()"
   ]
  },
  {
   "cell_type": "code",
   "execution_count": 49,
   "id": "dd3059e1",
   "metadata": {},
   "outputs": [
    {
     "data": {
      "text/plain": [
       "['Hello',\n",
       " 'welcome',\n",
       " 'to',\n",
       " 'my',\n",
       " 'world.',\n",
       " 'Myself',\n",
       " 'kuldeep',\n",
       " 'sharma',\n",
       " '.',\n",
       " 'i',\n",
       " \"'m\",\n",
       " 'trying',\n",
       " '!',\n",
       " 'my',\n",
       " 'best',\n",
       " 'to',\n",
       " 'become',\n",
       " 'a',\n",
       " 'good',\n",
       " 'ai',\n",
       " '&',\n",
       " 'ml',\n",
       " 'engineer',\n",
       " '.']"
      ]
     },
     "execution_count": 49,
     "metadata": {},
     "output_type": "execute_result"
    }
   ],
   "source": [
    "tokenizer.tokenize(corpus)"
   ]
  },
  {
   "cell_type": "code",
   "execution_count": null,
   "id": "271d33e7",
   "metadata": {},
   "outputs": [],
   "source": []
  }
 ],
 "metadata": {
  "kernelspec": {
   "display_name": "venv",
   "language": "python",
   "name": "python3"
  },
  "language_info": {
   "codemirror_mode": {
    "name": "ipython",
    "version": 3
   },
   "file_extension": ".py",
   "mimetype": "text/x-python",
   "name": "python",
   "nbconvert_exporter": "python",
   "pygments_lexer": "ipython3",
   "version": "3.13.2"
  }
 },
 "nbformat": 4,
 "nbformat_minor": 5
}
